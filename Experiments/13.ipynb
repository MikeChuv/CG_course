{
 "cells": [
  {
   "cell_type": "code",
   "execution_count": 1,
   "metadata": {},
   "outputs": [],
   "source": [
    "import numpy as np\n",
    "import matplotlib.pyplot as plt\n",
    "import time"
   ]
  },
  {
   "cell_type": "code",
   "execution_count": 2,
   "metadata": {},
   "outputs": [],
   "source": [
    "wx, wy = 180, 135"
   ]
  },
  {
   "cell_type": "code",
   "execution_count": 3,
   "metadata": {},
   "outputs": [],
   "source": [
    "clr0 = [255, 0, 0]\n",
    "v0 = (35, 10, 0)\n",
    "ang0 = 0\n",
    "a0 = int(0.6 * wx) # длина\n",
    "b0 = int(0.8 * wy) # ширина\n",
    "\n",
    "\n",
    "clr1 = [0, 255, 0]\n",
    "v1 = (10, 20, -50)\n",
    "ang1 = 45\n",
    "a1 = int(0.8 * wx)\n",
    "b1 = int(0.6 * wy)\n",
    "\n",
    "\n",
    "clr2 = [0, 0, 255]\n",
    "v2 = (70, 30, 70)\n",
    "ang2 = -50\n",
    "a2 = int(0.9 * wx)\n",
    "b2 = int(0.4 * wy)"
   ]
  },
  {
   "cell_type": "code",
   "execution_count": 9,
   "metadata": {},
   "outputs": [],
   "source": [
    "rect0 = np.zeros((wx, wy, 3, 1))\n",
    "rect1 = np.zeros((wx, wy, 3, 1))\n",
    "rect2 = np.zeros((wx, wy, 3, 1))"
   ]
  },
  {
   "cell_type": "code",
   "execution_count": 10,
   "metadata": {},
   "outputs": [],
   "source": [
    "rect0[v0[0]:v0[0]+a0, v0[1]:v0[1]+b0, :, 0] = clr0\n",
    "\n",
    "rect1[v1[0]:v1[0]+a0, v1[1]:v1[1]+b0, :, 0] = clr1\n",
    "\n",
    "rect2[v2[0]:v2[0]+a2, v2[1]:v2[1]+b2, :, 0] = clr2"
   ]
  },
  {
   "cell_type": "code",
   "execution_count": 15,
   "metadata": {},
   "outputs": [
    {
     "name": "stderr",
     "output_type": "stream",
     "text": [
      "Clipping input data to the valid range for imshow with RGB data ([0..1] for floats or [0..255] for integers).\n",
      "Clipping input data to the valid range for imshow with RGB data ([0..1] for floats or [0..255] for integers).\n",
      "Clipping input data to the valid range for imshow with RGB data ([0..1] for floats or [0..255] for integers).\n",
      "Clipping input data to the valid range for imshow with RGB data ([0..1] for floats or [0..255] for integers).\n",
      "Clipping input data to the valid range for imshow with RGB data ([0..1] for floats or [0..255] for integers).\n",
      "Clipping input data to the valid range for imshow with RGB data ([0..1] for floats or [0..255] for integers).\n",
      "Clipping input data to the valid range for imshow with RGB data ([0..1] for floats or [0..255] for integers).\n",
      "Clipping input data to the valid range for imshow with RGB data ([0..1] for floats or [0..255] for integers).\n",
      "Clipping input data to the valid range for imshow with RGB data ([0..1] for floats or [0..255] for integers).\n",
      "Clipping input data to the valid range for imshow with RGB data ([0..1] for floats or [0..255] for integers).\n"
     ]
    },
    {
     "data": {
      "image/png": "[encoded data removed]",
      "text/plain": [
       "<Figure size 1080x720 with 10 Axes>"
      ]
     },
     "metadata": {},
     "output_type": "display_data"
    }
   ],
   "source": [
    "fig, axs = plt.subplots(nrows=1, ncols=10, figsize=(15, 10),\n",
    "                        subplot_kw={'xticks': [], 'yticks': []})\n",
    "\n",
    "for i, _ in enumerate(axs.flat):\n",
    "\taxs[i].imshow(rect0 + rect1 + rect2)\n",
    "plt.tight_layout()\n",
    "plt.show()\n",
    "\n"
   ]
  }
 ],
 "metadata": {
  "interpreter": {
   "hash": "6db50b568af7099e62144efa63d7ef7ed81c7dc03574fe94edbaffc207dd38cc"
  },
  "kernelspec": {
   "display_name": "Python 3.9.7 64-bit",
   "language": "python",
   "name": "python3"
  },
  "language_info": {
   "codemirror_mode": {
    "name": "ipython",
    "version": 3
   },
   "file_extension": ".py",
   "mimetype": "text/x-python",
   "name": "python",
   "nbconvert_exporter": "python",
   "pygments_lexer": "ipython3",
   "version": "3.9.7"
  },
  "orig_nbformat": 4
 },
 "nbformat": 4,
 "nbformat_minor": 2
}
